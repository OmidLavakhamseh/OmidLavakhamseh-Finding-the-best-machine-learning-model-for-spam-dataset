{
 "cells": [
  {
   "cell_type": "markdown",
   "id": "450c348c",
   "metadata": {},
   "source": [
    "# TM Final project:\n",
    "\n",
    "## Title:\n",
    "\n",
    "Name:Omid Lavakhamseh\n",
    "\n",
    "LIU-ID: omila405\n"
   ]
  },
  {
   "cell_type": "markdown",
   "id": "63833f25",
   "metadata": {},
   "source": [
    "#### import needed libraries: "
   ]
  },
  {
   "cell_type": "code",
   "execution_count": 10,
   "id": "693ebcd2",
   "metadata": {},
   "outputs": [],
   "source": [
    "import pandas as pd\n",
    "import numpy as np\n",
    "import matplotlib.pyplot as plt\n",
    "import os\n",
    "from sklearn.model_selection import train_test_split\n",
    "import seaborn as sns\n",
    "from sklearn.linear_model import LogisticRegression\n",
    "from sklearn.metrics import accuracy_score, f1_score,fbeta_score\n",
    "import warnings\n",
    "warnings.filterwarnings('ignore')\n",
    "from sklearn.tree import DecisionTreeClassifier\n",
    "import spacy\n",
    "from sklearn.feature_extraction.text import TfidfVectorizer\n",
    "import random\n",
    "import pandas as pd\n",
    "import nltk\n",
    "from sklearn.feature_extraction.text import TfidfVectorizer\n",
    "from sklearn.model_selection import train_test_split\n",
    "from sklearn.svm import SVC\n",
    "from sklearn.metrics import accuracy_score, precision_score, recall_score, f1_score"
   ]
  },
  {
   "cell_type": "markdown",
   "id": "fc715d3d",
   "metadata": {},
   "source": [
    "#### Reading the data :"
   ]
  },
  {
   "cell_type": "code",
   "execution_count": 11,
   "id": "da76d4a1",
   "metadata": {},
   "outputs": [],
   "source": [
    "email=pd.read_csv('spam_assassin.csv')\n",
    "email\n",
    "plt.show()\n"
   ]
  },
  {
   "cell_type": "code",
   "execution_count": 12,
   "id": "72bc1d06",
   "metadata": {},
   "outputs": [],
   "source": [
    "\n",
    "#plt.savefig('M:/LIU/TM/project/Final Work/original_data_table.png')\n",
    "#fig.savefig('table.png', bbox_inches='tight', pad_inches=0.5)"
   ]
  },
  {
   "cell_type": "code",
   "execution_count": 13,
   "id": "6f8fbf7d",
   "metadata": {},
   "outputs": [],
   "source": [
    "email.rename(columns = {'text':'body'}, inplace = True)\n",
    "email.rename(columns = {'target':'label'}, inplace = True)"
   ]
  },
  {
   "cell_type": "code",
   "execution_count": 14,
   "id": "133649fa",
   "metadata": {},
   "outputs": [
    {
     "data": {
      "text/html": [
       "<div>\n",
       "<style scoped>\n",
       "    .dataframe tbody tr th:only-of-type {\n",
       "        vertical-align: middle;\n",
       "    }\n",
       "\n",
       "    .dataframe tbody tr th {\n",
       "        vertical-align: top;\n",
       "    }\n",
       "\n",
       "    .dataframe thead th {\n",
       "        text-align: right;\n",
       "    }\n",
       "</style>\n",
       "<table border=\"1\" class=\"dataframe\">\n",
       "  <thead>\n",
       "    <tr style=\"text-align: right;\">\n",
       "      <th></th>\n",
       "      <th>body</th>\n",
       "      <th>label</th>\n",
       "    </tr>\n",
       "  </thead>\n",
       "  <tbody>\n",
       "    <tr>\n",
       "      <th>0</th>\n",
       "      <td>From ilug-admin@linux.ie Mon Jul 29 11:28:02 2...</td>\n",
       "      <td>0</td>\n",
       "    </tr>\n",
       "    <tr>\n",
       "      <th>1</th>\n",
       "      <td>From gort44@excite.com Mon Jun 24 17:54:21 200...</td>\n",
       "      <td>1</td>\n",
       "    </tr>\n",
       "    <tr>\n",
       "      <th>2</th>\n",
       "      <td>From fork-admin@xent.com Mon Jul 29 11:39:57 2...</td>\n",
       "      <td>1</td>\n",
       "    </tr>\n",
       "    <tr>\n",
       "      <th>3</th>\n",
       "      <td>From dcm123@btamail.net.cn Mon Jun 24 17:49:23...</td>\n",
       "      <td>1</td>\n",
       "    </tr>\n",
       "    <tr>\n",
       "      <th>4</th>\n",
       "      <td>From ilug-admin@linux.ie Mon Aug 19 11:02:47 2...</td>\n",
       "      <td>0</td>\n",
       "    </tr>\n",
       "  </tbody>\n",
       "</table>\n",
       "</div>"
      ],
      "text/plain": [
       "                                                body  label\n",
       "0  From ilug-admin@linux.ie Mon Jul 29 11:28:02 2...      0\n",
       "1  From gort44@excite.com Mon Jun 24 17:54:21 200...      1\n",
       "2  From fork-admin@xent.com Mon Jul 29 11:39:57 2...      1\n",
       "3  From dcm123@btamail.net.cn Mon Jun 24 17:49:23...      1\n",
       "4  From ilug-admin@linux.ie Mon Aug 19 11:02:47 2...      0"
      ]
     },
     "execution_count": 14,
     "metadata": {},
     "output_type": "execute_result"
    }
   ],
   "source": [
    "email.head()"
   ]
  },
  {
   "cell_type": "code",
   "execution_count": 15,
   "id": "be3a21af",
   "metadata": {},
   "outputs": [
    {
     "name": "stdout",
     "output_type": "stream",
     "text": [
      "<class 'pandas.core.frame.DataFrame'>\n",
      "RangeIndex: 5796 entries, 0 to 5795\n",
      "Data columns (total 2 columns):\n",
      " #   Column  Non-Null Count  Dtype \n",
      "---  ------  --------------  ----- \n",
      " 0   body    5796 non-null   object\n",
      " 1   label   5796 non-null   int64 \n",
      "dtypes: int64(1), object(1)\n",
      "memory usage: 90.7+ KB\n",
      "None\n"
     ]
    }
   ],
   "source": [
    "print(email.info()) "
   ]
  },
  {
   "cell_type": "markdown",
   "id": "bc9815c8",
   "metadata": {},
   "source": [
    "#### Preprocessing:\n"
   ]
  },
  {
   "cell_type": "code",
   "execution_count": 16,
   "id": "7f7dc3e3",
   "metadata": {},
   "outputs": [
    {
     "data": {
      "text/plain": [
       "<AxesSubplot:xlabel='label', ylabel='count'>"
      ]
     },
     "execution_count": 16,
     "metadata": {},
     "output_type": "execute_result"
    },
    {
     "data": {
      "image/png": "[encoded data removed]",
      "text/plain": [
       "<Figure size 432x288 with 1 Axes>"
      ]
     },
     "metadata": {
      "needs_background": "light"
     },
     "output_type": "display_data"
    }
   ],
   "source": [
    "sns.countplot(email['label'])\n",
    "#plt.savefig('M:/LIU/TM/project/Final Work/test_graph.png')\n",
    "#plt.show()\n",
    "#plt.savefig('M:/LIU/TM/project/Final Work/sotun.jpg', dpi=300, bbox_inches='tight')\n"
   ]
  },
  {
   "cell_type": "code",
   "execution_count": 17,
   "id": "5b40d45e",
   "metadata": {},
   "outputs": [
    {
     "name": "stdout",
     "output_type": "stream",
     "text": [
      "number of one labels 1896\n",
      "number of zero labels 3900\n"
     ]
    }
   ],
   "source": [
    "print('number of one labels',sum(email['label']==1))\n",
    "print('number of zero labels',sum(email['label']==0))"
   ]
  },
  {
   "cell_type": "code",
   "execution_count": 20,
   "id": "d88a9435",
   "metadata": {},
   "outputs": [
    {
     "data": {
      "image/png": "[encoded data removed]",
      "text/plain": [
       "<Figure size 432x288 with 1 Axes>"
      ]
     },
     "metadata": {},
     "output_type": "display_data"
    }
   ],
   "source": [
    "lab=['Spam','Not_spam']\n",
    "count=[sum(email['label']==1),sum(email['label']==0)]\n",
    "plt.pie(count,labels=lab)\n",
    "#fig = ax.get_figure()\n",
    "#fig.set_size_inches(8, 8)\n",
    "plt.show()\n",
    "#plt.savefig(, bbox_inches='tight')\n",
    "#plt.savefig('M:/LIU/TM/project/Final Work/gerd3.jpg', dpi=300, bbox_inches='tight')\n"
   ]
  },
  {
   "cell_type": "markdown",
   "id": "6cbb17fe",
   "metadata": {},
   "source": [
    "##### A)there is not any missing value "
   ]
  },
  {
   "cell_type": "code",
   "execution_count": 21,
   "id": "500b9b28",
   "metadata": {
    "scrolled": true
   },
   "outputs": [
    {
     "name": "stdout",
     "output_type": "stream",
     "text": [
      "body     0\n",
      "label    0\n",
      "dtype: int64\n"
     ]
    }
   ],
   "source": [
    "print(email.isnull().sum())"
   ]
  },
  {
   "cell_type": "markdown",
   "id": "8c9f3ad6",
   "metadata": {},
   "source": [
    "##### B)\n",
    "Now we need to check if all charachters are lower or not because for example 'YES' and 'yes' both refer to the same concept but my model would consider them different."
   ]
  },
  {
   "cell_type": "code",
   "execution_count": 22,
   "id": "85b998e0",
   "metadata": {},
   "outputs": [
    {
     "name": "stdout",
     "output_type": "stream",
     "text": [
      "Are all letters lower case in body column? False\n"
     ]
    }
   ],
   "source": [
    "print('Are all letters lower case in body column?',str(email['body']).islower())\n",
    "\n"
   ]
  },
  {
   "cell_type": "markdown",
   "id": "2025af9c",
   "metadata": {},
   "source": [
    "AS we see we have a combination of lower and upper case in subject and email columns so we need to change them to the same format because of the reason that mentioned above.  "
   ]
  },
  {
   "cell_type": "code",
   "execution_count": 23,
   "id": "6623312d",
   "metadata": {},
   "outputs": [],
   "source": [
    "email['body']=email['body'].str.upper()"
   ]
  },
  {
   "cell_type": "code",
   "execution_count": 24,
   "id": "b7196658",
   "metadata": {
    "scrolled": false
   },
   "outputs": [
    {
     "data": {
      "text/html": [
       "<div>\n",
       "<style scoped>\n",
       "    .dataframe tbody tr th:only-of-type {\n",
       "        vertical-align: middle;\n",
       "    }\n",
       "\n",
       "    .dataframe tbody tr th {\n",
       "        vertical-align: top;\n",
       "    }\n",
       "\n",
       "    .dataframe thead th {\n",
       "        text-align: right;\n",
       "    }\n",
       "</style>\n",
       "<table border=\"1\" class=\"dataframe\">\n",
       "  <thead>\n",
       "    <tr style=\"text-align: right;\">\n",
       "      <th></th>\n",
       "      <th>body</th>\n",
       "      <th>label</th>\n",
       "    </tr>\n",
       "  </thead>\n",
       "  <tbody>\n",
       "    <tr>\n",
       "      <th>0</th>\n",
       "      <td>FROM ILUG-ADMIN@LINUX.IE MON JUL 29 11:28:02 2...</td>\n",
       "      <td>0</td>\n",
       "    </tr>\n",
       "    <tr>\n",
       "      <th>1</th>\n",
       "      <td>FROM GORT44@EXCITE.COM MON JUN 24 17:54:21 200...</td>\n",
       "      <td>1</td>\n",
       "    </tr>\n",
       "    <tr>\n",
       "      <th>2</th>\n",
       "      <td>FROM FORK-ADMIN@XENT.COM MON JUL 29 11:39:57 2...</td>\n",
       "      <td>1</td>\n",
       "    </tr>\n",
       "    <tr>\n",
       "      <th>3</th>\n",
       "      <td>FROM DCM123@BTAMAIL.NET.CN MON JUN 24 17:49:23...</td>\n",
       "      <td>1</td>\n",
       "    </tr>\n",
       "    <tr>\n",
       "      <th>4</th>\n",
       "      <td>FROM ILUG-ADMIN@LINUX.IE MON AUG 19 11:02:47 2...</td>\n",
       "      <td>0</td>\n",
       "    </tr>\n",
       "    <tr>\n",
       "      <th>...</th>\n",
       "      <td>...</td>\n",
       "      <td>...</td>\n",
       "    </tr>\n",
       "    <tr>\n",
       "      <th>5791</th>\n",
       "      <td>FROM ILUG-ADMIN@LINUX.IE MON JUL 22 18:12:45 2...</td>\n",
       "      <td>0</td>\n",
       "    </tr>\n",
       "    <tr>\n",
       "      <th>5792</th>\n",
       "      <td>FROM FORK-ADMIN@XENT.COM MON OCT 7 20:37:02 20...</td>\n",
       "      <td>0</td>\n",
       "    </tr>\n",
       "    <tr>\n",
       "      <th>5793</th>\n",
       "      <td>RECEIVED: FROM HQ.PRO-NS.NET (LOCALHOST [127.0...</td>\n",
       "      <td>1</td>\n",
       "    </tr>\n",
       "    <tr>\n",
       "      <th>5794</th>\n",
       "      <td>FROM RAZOR-USERS-ADMIN@LISTS.SOURCEFORGE.NET T...</td>\n",
       "      <td>0</td>\n",
       "    </tr>\n",
       "    <tr>\n",
       "      <th>5795</th>\n",
       "      <td>FROM RSSFEEDS@JMASON.ORG MON SEP 30 13:44:10 2...</td>\n",
       "      <td>0</td>\n",
       "    </tr>\n",
       "  </tbody>\n",
       "</table>\n",
       "<p>5796 rows × 2 columns</p>\n",
       "</div>"
      ],
      "text/plain": [
       "                                                   body  label\n",
       "0     FROM ILUG-ADMIN@LINUX.IE MON JUL 29 11:28:02 2...      0\n",
       "1     FROM GORT44@EXCITE.COM MON JUN 24 17:54:21 200...      1\n",
       "2     FROM FORK-ADMIN@XENT.COM MON JUL 29 11:39:57 2...      1\n",
       "3     FROM DCM123@BTAMAIL.NET.CN MON JUN 24 17:49:23...      1\n",
       "4     FROM ILUG-ADMIN@LINUX.IE MON AUG 19 11:02:47 2...      0\n",
       "...                                                 ...    ...\n",
       "5791  FROM ILUG-ADMIN@LINUX.IE MON JUL 22 18:12:45 2...      0\n",
       "5792  FROM FORK-ADMIN@XENT.COM MON OCT 7 20:37:02 20...      0\n",
       "5793  RECEIVED: FROM HQ.PRO-NS.NET (LOCALHOST [127.0...      1\n",
       "5794  FROM RAZOR-USERS-ADMIN@LISTS.SOURCEFORGE.NET T...      0\n",
       "5795  FROM RSSFEEDS@JMASON.ORG MON SEP 30 13:44:10 2...      0\n",
       "\n",
       "[5796 rows x 2 columns]"
      ]
     },
     "execution_count": 24,
     "metadata": {},
     "output_type": "execute_result"
    }
   ],
   "source": [
    "email#new form of data"
   ]
  },
  {
   "cell_type": "code",
   "execution_count": 25,
   "id": "3b9c496f",
   "metadata": {},
   "outputs": [],
   "source": [
    "#test all are upper now at last"
   ]
  },
  {
   "cell_type": "markdown",
   "id": "3ffa7348",
   "metadata": {},
   "source": [
    "## Feature extraction:\n"
   ]
  },
  {
   "cell_type": "code",
   "execution_count": 26,
   "id": "e40a251b",
   "metadata": {},
   "outputs": [
    {
     "data": {
      "text/plain": [
       "0       FROM ILUG-ADMIN @ LINUX.IE MON JUL 29 11:28:02...\n",
       "1       FROM GORT44 @ EXCITE.COM MON JUN 24 17:54:21 2...\n",
       "2       FROM FORK-ADMIN @ XENT.COM MON JUL 29 11:39:57...\n",
       "3       FROM DCM123 @ BTAMAIL.NET.CN MON JUN 24 17:49:...\n",
       "4       FROM ILUG-ADMIN @ LINUX.IE MON AUG 19 11:02:47...\n",
       "                              ...                        \n",
       "5791    FROM ILUG-ADMIN @ LINUX.IE MON JUL 22 18:12:45...\n",
       "5792    FROM FORK-ADMIN @ XENT.COM MON OCT 7 20:37:02 ...\n",
       "5793    RECEIVED : FROM HQ.PRO-NS.NET ( LOCALHOST [ 12...\n",
       "5794    FROM RAZOR-USERS-ADMIN @ LISTS.SOURCEFORGE.NET...\n",
       "5795    FROM RSSFEEDS @ JMASON.ORG MON SEP 30 13:44:10...\n",
       "Name: body, Length: 5796, dtype: object"
      ]
     },
     "execution_count": 26,
     "metadata": {},
     "output_type": "execute_result"
    }
   ],
   "source": [
    "email[\"body\"].apply(lambda X: \" \".join(nltk.word_tokenize(X)))"
   ]
  },
  {
   "cell_type": "code",
   "execution_count": 27,
   "id": "2c4392d5",
   "metadata": {},
   "outputs": [],
   "source": [
    "# Data preprocessing\n",
    "email[\"body\"] = email[\"body\"].apply(lambda X: \" \".join(nltk.word_tokenize(X)))\n",
    "\n",
    "\n",
    "# Feature extraction\n",
    "vectorizer = TfidfVectorizer(stop_words=\"english\")\n",
    "X = vectorizer.fit_transform(email[\"body\"])\n",
    "Y = email[\"label\"]"
   ]
  },
  {
   "cell_type": "code",
   "execution_count": 28,
   "id": "d9e4bb71",
   "metadata": {},
   "outputs": [
    {
     "data": {
      "text/plain": [
       "0       FROM ILUG-ADMIN @ LINUX.IE MON JUL 29 11:28:02...\n",
       "1       FROM GORT44 @ EXCITE.COM MON JUN 24 17:54:21 2...\n",
       "2       FROM FORK-ADMIN @ XENT.COM MON JUL 29 11:39:57...\n",
       "3       FROM DCM123 @ BTAMAIL.NET.CN MON JUN 24 17:49:...\n",
       "4       FROM ILUG-ADMIN @ LINUX.IE MON AUG 19 11:02:47...\n",
       "                              ...                        \n",
       "5791    FROM ILUG-ADMIN @ LINUX.IE MON JUL 22 18:12:45...\n",
       "5792    FROM FORK-ADMIN @ XENT.COM MON OCT 7 20:37:02 ...\n",
       "5793    RECEIVED : FROM HQ.PRO-NS.NET ( LOCALHOST [ 12...\n",
       "5794    FROM RAZOR-USERS-ADMIN @ LISTS.SOURCEFORGE.NET...\n",
       "5795    FROM RSSFEEDS @ JMASON.ORG MON SEP 30 13:44:10...\n",
       "Name: body, Length: 5796, dtype: object"
      ]
     },
     "execution_count": 28,
     "metadata": {},
     "output_type": "execute_result"
    }
   ],
   "source": [
    "email['body']"
   ]
  },
  {
   "cell_type": "code",
   "execution_count": 33,
   "id": "ce104493",
   "metadata": {},
   "outputs": [
    {
     "name": "stderr",
     "output_type": "stream",
     "text": [
      "[nltk_data] Downloading package stopwords to\n",
      "[nltk_data]     C:\\Users\\omidl\\AppData\\Roaming\\nltk_data...\n",
      "[nltk_data]   Package stopwords is already up-to-date!\n"
     ]
    },
    {
     "data": {
      "text/plain": [
       "True"
      ]
     },
     "execution_count": 33,
     "metadata": {},
     "output_type": "execute_result"
    }
   ],
   "source": [
    "import nltk\n",
    "nltk.download('stopwords')"
   ]
  },
  {
   "cell_type": "code",
   "execution_count": 34,
   "id": "f00f1237",
   "metadata": {},
   "outputs": [],
   "source": [
    "from nltk.corpus import stopwords"
   ]
  },
  {
   "cell_type": "code",
   "execution_count": 36,
   "id": "e48eb143",
   "metadata": {
    "scrolled": true
   },
   "outputs": [
    {
     "name": "stderr",
     "output_type": "stream",
     "text": [
      "[nltk_data] Downloading package stopwords to\n",
      "[nltk_data]     C:\\Users\\omidl\\AppData\\Roaming\\nltk_data...\n",
      "[nltk_data]   Package stopwords is already up-to-date!\n"
     ]
    }
   ],
   "source": [
    "import nltk\n",
    "nltk.download('stopwords')\n",
    "\n",
    "from nltk.corpus import stopwords\n",
    "from nltk.tokenize import word_tokenize\n",
    "\n",
    "#text = \"This is an example sentence to demonstrate stopword removal.\"\n",
    "stop_words = set(stopwords.words('english'))\n",
    "\n",
    "#tokens = word_tokenize(text)\n",
    "filtered_not_spam = [word for word in email[email['label'] == 0]['body'] if word.upper() not in stop_words]\n",
    "\n",
    "filtered_not_spam = ' '.join(filtered_not_spam)\n",
    "#print(filtered_text)\n"
   ]
  },
  {
   "cell_type": "code",
   "execution_count": 37,
   "id": "c97f1bf9",
   "metadata": {},
   "outputs": [
    {
     "data": {
      "text/plain": [
       "14519081"
      ]
     },
     "execution_count": 37,
     "metadata": {},
     "output_type": "execute_result"
    }
   ],
   "source": [
    "len(filtered_not_spam)"
   ]
  },
  {
   "cell_type": "code",
   "execution_count": 38,
   "id": "f21f54e2",
   "metadata": {
    "scrolled": true
   },
   "outputs": [
    {
     "data": {
      "image/png": "[encoded data removed]",
      "text/plain": [
       "<Figure size 7200x288 with 1 Axes>"
      ]
     },
     "metadata": {
      "needs_background": "light"
     },
     "output_type": "display_data"
    }
   ],
   "source": [
    "from wordcloud import WordCloud, STOPWORDS\n",
    "import matplotlib.pyplot as plt\n",
    "from nltk.corpus import stopwords\n",
    "from nltk.tokenize import word_tokenize\n",
    "\n",
    "#text = \"This is an example sentence to demonstrate stopword removal.\"\n",
    "#stop_words = set(stopwords.words('english'))\n",
    "\n",
    "#tokens = word_tokenize(text)\n",
    "#filtered_tokens = [word for word in tokens if word.lower() not in stop_words]\n",
    "\n",
    "#filtered_text = ' '.join(filtered_tokens)\n",
    "\n",
    "wordcloud = WordCloud(width = 800, height = 800, \n",
    "                background_color ='white', \n",
    "                stopwords = STOPWORDS, \n",
    "                min_font_size = 10,max_words=20).generate(filtered_not_spam)\n",
    "\n",
    "plt.figure(figsize = (100, 4), facecolor = None) \n",
    "plt.imshow(wordcloud) \n",
    "plt.axis(\"off\") \n",
    "plt.tight_layout(pad = 0) \n",
    "#plt.savefig('M:/LIU/TM/project/Final Work/frequent_notspam.png', dpi=300, bbox_inches='tight')\n",
    "#plt.show() \n"
   ]
  },
  {
   "cell_type": "code",
   "execution_count": null,
   "id": "5e46dbfc",
   "metadata": {},
   "outputs": [],
   "source": []
  },
  {
   "cell_type": "code",
   "execution_count": 39,
   "id": "a7022083",
   "metadata": {},
   "outputs": [
    {
     "name": "stderr",
     "output_type": "stream",
     "text": [
      "[nltk_data] Downloading package stopwords to\n",
      "[nltk_data]     C:\\Users\\omidl\\AppData\\Roaming\\nltk_data...\n",
      "[nltk_data]   Package stopwords is already up-to-date!\n"
     ]
    }
   ],
   "source": [
    "import nltk\n",
    "nltk.download('stopwords')\n",
    "\n",
    "from nltk.corpus import stopwords\n",
    "from nltk.tokenize import word_tokenize\n",
    "\n",
    "\n",
    "\n",
    "#tokens = word_tokenize(text)\n",
    "filtered_spam = [word for word in email[email['label'] == 1]['body'] if word.upper() not in stop_words]\n",
    "\n",
    "filtered_spam = ' '.join(filtered_spam)\n",
    "#print(filtered_text)\n"
   ]
  },
  {
   "cell_type": "code",
   "execution_count": 40,
   "id": "7c983db2",
   "metadata": {},
   "outputs": [
    {
     "data": {
      "text/plain": [
       "12069953"
      ]
     },
     "execution_count": 40,
     "metadata": {},
     "output_type": "execute_result"
    }
   ],
   "source": [
    "len(filtered_spam)"
   ]
  },
  {
   "cell_type": "code",
   "execution_count": 41,
   "id": "fb417769",
   "metadata": {},
   "outputs": [
    {
     "data": {
      "image/png": "[encoded data removed]",
      "text/plain": [
       "<Figure size 7200x288 with 1 Axes>"
      ]
     },
     "metadata": {
      "needs_background": "light"
     },
     "output_type": "display_data"
    }
   ],
   "source": [
    "from wordcloud import WordCloud, STOPWORDS\n",
    "import matplotlib.pyplot as plt\n",
    "from nltk.corpus import stopwords\n",
    "from nltk.tokenize import word_tokenize\n",
    "\n",
    "\n",
    "\n",
    "wordcloud = WordCloud(width = 800, height = 800, \n",
    "                background_color ='white', \n",
    "                stopwords = STOPWORDS, \n",
    "                min_font_size = 10,max_words=20).generate(filtered_spam)\n",
    "\n",
    "plt.figure(figsize = (100, 4), facecolor = None) \n",
    "plt.imshow(wordcloud) \n",
    "plt.axis(\"off\") \n",
    "plt.tight_layout(pad = 0) \n",
    "#plt.savefig('M:/LIU/TM/project/Final Work/frequent_spam.png', dpi=300, bbox_inches='tight')\n",
    "#plt.show() \n"
   ]
  },
  {
   "cell_type": "markdown",
   "id": "a3739413",
   "metadata": {},
   "source": [
    "This code generates two word clouds, one for each class, based on the most frequent words in the text data. You can adjust the parameters of the WordCloud object to customize the appearance of the word clouds."
   ]
  },
  {
   "cell_type": "markdown",
   "id": "cf5fc118",
   "metadata": {},
   "source": [
    "##### C)  data partitioning:\n",
    "I am going to split data to train, validation and test respectively 60%,20%,20%.\n",
    "\n"
   ]
  },
  {
   "cell_type": "code",
   "execution_count": 42,
   "id": "66ab37c8",
   "metadata": {},
   "outputs": [
    {
     "data": {
      "text/plain": [
       "<5796x132244 sparse matrix of type '<class 'numpy.float64'>'\n",
       "\twith 1244235 stored elements in Compressed Sparse Row format>"
      ]
     },
     "execution_count": 42,
     "metadata": {},
     "output_type": "execute_result"
    }
   ],
   "source": [
    "#X=email[['body']]\n",
    "X"
   ]
  },
  {
   "cell_type": "code",
   "execution_count": 43,
   "id": "20f47b91",
   "metadata": {},
   "outputs": [
    {
     "data": {
      "text/plain": [
       "0       0\n",
       "1       1\n",
       "2       1\n",
       "3       1\n",
       "4       0\n",
       "       ..\n",
       "5791    0\n",
       "5792    0\n",
       "5793    1\n",
       "5794    0\n",
       "5795    0\n",
       "Name: label, Length: 5796, dtype: int64"
      ]
     },
     "execution_count": 43,
     "metadata": {},
     "output_type": "execute_result"
    }
   ],
   "source": [
    "#Y=email[['label']]\n",
    "Y"
   ]
  },
  {
   "cell_type": "code",
   "execution_count": 44,
   "id": "496a1268",
   "metadata": {},
   "outputs": [],
   "source": [
    "random.seed(0)\n",
    "X_train,X_test,Y_train,Y_test=train_test_split(X,Y,test_size=0.20,shuffle=True)"
   ]
  },
  {
   "cell_type": "code",
   "execution_count": 45,
   "id": "52f9da73",
   "metadata": {},
   "outputs": [],
   "source": [
    "X_train,X_val,Y_train,Y_val=train_test_split(X_train,Y_train,test_size=0.25)"
   ]
  },
  {
   "cell_type": "code",
   "execution_count": 46,
   "id": "ae7fa2e9",
   "metadata": {},
   "outputs": [
    {
     "name": "stdout",
     "output_type": "stream",
     "text": [
      "X_train: (3477, 132244)\n",
      "X_test:  (1160, 132244)\n",
      "Y_train: (3477,)\n",
      "Y_test: (1160,)\n",
      "X_val:  (1159, 132244)\n",
      "Y_val: (1159,)\n",
      "proportion of train 0.60 \n",
      "proportion of validation 0.20\n",
      "proportion of test 0.20 \n"
     ]
    }
   ],
   "source": [
    "print(\"X_train:\",X_train.shape)\n",
    "print(\"X_test: \",X_test.shape)\n",
    "print(\"Y_train:\",Y_train.shape)\n",
    "print(\"Y_test:\",Y_test.shape)\n",
    "print(\"X_val: \",X_val.shape)\n",
    "print(\"Y_val:\",Y_val.shape)\n",
    "print('proportion of train {:.2f} '.format(len(Y_train)/email.shape[0]))\n",
    "print('proportion of validation {:.2f}'.format(len(Y_val)/email.shape[0]))\n",
    "print('proportion of test {:.2f} ' .format(len(Y_test)/email.shape[0]))"
   ]
  },
  {
   "cell_type": "markdown",
   "id": "429d9166",
   "metadata": {},
   "source": [
    "# 4.Modeling:\n"
   ]
  },
  {
   "cell_type": "markdown",
   "id": "3631f81f",
   "metadata": {},
   "source": [
    "## 4.1 using SVC model"
   ]
  },
  {
   "cell_type": "code",
   "execution_count": 74,
   "id": "4e88b204",
   "metadata": {},
   "outputs": [
    {
     "name": "stdout",
     "output_type": "stream",
     "text": [
      "train Accuracy: 0.9976272648835203\n",
      "Accuracy: 0.994823123382226\n",
      "Precision: 0.9973958333333334\n",
      "Recall: 0.9871134020618557\n",
      "F1 score: 0.9922279792746115\n"
     ]
    }
   ],
   "source": [
    "# Model training\n",
    "model = SVC(kernel=\"linear\")\n",
    "model.fit(X_train, Y_train)\n",
    "\n",
    "# Model evaluation\n",
    "Y_pred = model.predict(X_val)\n",
    "Y_pred_tr = model.predict(X_train)\n",
    "print(\"train Accuracy:\", accuracy_score(Y_train, Y_pred_tr))\n",
    "print(\"Accuracy:\", accuracy_score(Y_val, Y_pred))\n",
    "print(\"Precision:\", precision_score(Y_val, Y_pred))\n",
    "print(\"Recall:\", recall_score(Y_val, Y_pred))\n",
    "print(\"F1 score:\", f1_score(Y_val, Y_pred))"
   ]
  },
  {
   "cell_type": "code",
   "execution_count": 75,
   "id": "a2bfb090",
   "metadata": {},
   "outputs": [
    {
     "name": "stdout",
     "output_type": "stream",
     "text": [
      "[[770   1]\n",
      " [  5 383]]\n"
     ]
    }
   ],
   "source": [
    "from sklearn.metrics import confusion_matrix\n",
    "\n",
    "# assume y_true and y_pred are the true and predicted labels, respectively\n",
    "cm = confusion_matrix(Y_val, Y_pred)\n",
    "\n",
    "# print the confusion matrix\n",
    "print(cm)\n"
   ]
  },
  {
   "cell_type": "code",
   "execution_count": 76,
   "id": "75956030",
   "metadata": {},
   "outputs": [
    {
     "data": {
      "text/plain": [
       "Text(33.0, 0.5, 'True Labels')"
      ]
     },
     "execution_count": 76,
     "metadata": {},
     "output_type": "execute_result"
    },
    {
     "data": {
      "image/png": "[encoded data removed]",
      "text/plain": [
       "<Figure size 432x288 with 2 Axes>"
      ]
     },
     "metadata": {
      "needs_background": "light"
     },
     "output_type": "display_data"
    }
   ],
   "source": [
    "import matplotlib.pyplot as plt\n",
    "import seaborn as sns\n",
    "\n",
    "# plot the confusion matrix as a heatmap\n",
    "sns.heatmap(cm, annot=True, cmap='Blues')\n",
    "plt.xlabel('Predicted Labels')\n",
    "plt.ylabel('True Labels')\n",
    "#plt.show()\n",
    "#plt.savefig('M:/LIU/TM/project/Final Work/akharin report/CM_SVC.jpg', dpi=300, bbox_inches='tight')\n"
   ]
  },
  {
   "cell_type": "markdown",
   "id": "00e9f81b",
   "metadata": {},
   "source": [
    "# MultinomialNB"
   ]
  },
  {
   "cell_type": "code",
   "execution_count": 50,
   "id": "c16c3244",
   "metadata": {},
   "outputs": [
    {
     "name": "stdout",
     "output_type": "stream",
     "text": [
      "train Accuracy: 0.9209088294506759\n",
      "Accuracy: 0.8964624676445211\n",
      "Precision: 0.9962962962962963\n",
      "Recall: 0.6932989690721649\n",
      "F1 score: 0.8176291793313071\n"
     ]
    }
   ],
   "source": [
    "from sklearn.naive_bayes import MultinomialNB\n",
    "\n",
    "\n",
    "\n",
    "# Model training\n",
    "model = MultinomialNB()\n",
    "model.fit(X_train, Y_train)\n",
    "\n",
    "# Model evaluation\n",
    "Y_pred = model.predict(X_val)\n",
    "Y_pred_tr = model.predict(X_train)\n",
    "print(\"train Accuracy:\", accuracy_score(Y_train, Y_pred_tr))\n",
    "print(\"Accuracy:\", accuracy_score(Y_val, Y_pred))\n",
    "print(\"Precision:\", precision_score(Y_val, Y_pred))\n",
    "print(\"Recall:\", recall_score(Y_val, Y_pred))\n",
    "print(\"F1 score:\", f1_score(Y_val, Y_pred))"
   ]
  },
  {
   "cell_type": "code",
   "execution_count": 51,
   "id": "308a7fad",
   "metadata": {},
   "outputs": [
    {
     "name": "stdout",
     "output_type": "stream",
     "text": [
      "[[770   1]\n",
      " [119 269]]\n"
     ]
    }
   ],
   "source": [
    "from sklearn.metrics import confusion_matrix\n",
    "\n",
    "# assume y_true and y_pred are the true and predicted labels, respectively\n",
    "cm = confusion_matrix(Y_val, Y_pred)\n",
    "\n",
    "# print the confusion matrix\n",
    "print(cm)\n"
   ]
  },
  {
   "cell_type": "code",
   "execution_count": 52,
   "id": "23705c54",
   "metadata": {},
   "outputs": [
    {
     "data": {
      "text/plain": [
       "Text(33.0, 0.5, 'True Labels')"
      ]
     },
     "execution_count": 52,
     "metadata": {},
     "output_type": "execute_result"
    },
    {
     "data": {
      "image/png": "[encoded data removed]",
      "text/plain": [
       "<Figure size 432x288 with 2 Axes>"
      ]
     },
     "metadata": {
      "needs_background": "light"
     },
     "output_type": "display_data"
    }
   ],
   "source": [
    "import matplotlib.pyplot as plt\n",
    "import seaborn as sns\n",
    "\n",
    "# plot the confusion matrix as a heatmap\n",
    "sns.heatmap(cm, annot=True, cmap='Blues')\n",
    "plt.xlabel('Predicted Labels')\n",
    "plt.ylabel('True Labels')\n",
    "#plt.show()\n",
    "#plt.savefig('M:/LIU/TM/project/Final Work/akharin report/CM_multinomialNB.jpg', dpi=300, bbox_inches='tight')\n"
   ]
  },
  {
   "cell_type": "markdown",
   "id": "6f7eb415",
   "metadata": {},
   "source": [
    "# RandomForestClassifier"
   ]
  },
  {
   "cell_type": "code",
   "execution_count": 53,
   "id": "0ff34e61",
   "metadata": {},
   "outputs": [
    {
     "name": "stdout",
     "output_type": "stream",
     "text": [
      "train Accuracy: 1.0\n",
      "Accuracy: 0.9836065573770492\n",
      "Precision: 0.9893899204244032\n",
      "Recall: 0.961340206185567\n",
      "F1 score: 0.9751633986928105\n"
     ]
    }
   ],
   "source": [
    "from sklearn.ensemble import RandomForestClassifier\n",
    "# Model training\n",
    "model = RandomForestClassifier(n_estimators=100, random_state=42)\n",
    "model.fit(X_train, Y_train)\n",
    "\n",
    "# Model evaluation\n",
    "Y_pred = model.predict(X_val)\n",
    "Y_pred_tr = model.predict(X_train)\n",
    "print(\"train Accuracy:\", accuracy_score(Y_train, Y_pred_tr))\n",
    "print(\"Accuracy:\", accuracy_score(Y_val, Y_pred))\n",
    "print(\"Precision:\", precision_score(Y_val, Y_pred))\n",
    "print(\"Recall:\", recall_score(Y_val, Y_pred))\n",
    "print(\"F1 score:\", f1_score(Y_val, Y_pred))"
   ]
  },
  {
   "cell_type": "code",
   "execution_count": 54,
   "id": "f3b98d35",
   "metadata": {},
   "outputs": [
    {
     "name": "stdout",
     "output_type": "stream",
     "text": [
      "[[767   4]\n",
      " [ 15 373]]\n"
     ]
    }
   ],
   "source": [
    "from sklearn.metrics import confusion_matrix\n",
    "\n",
    "# assume y_true and y_pred are the true and predicted labels, respectively\n",
    "cm = confusion_matrix(Y_val, Y_pred)\n",
    "\n",
    "# print the confusion matrix\n",
    "print(cm)\n"
   ]
  },
  {
   "cell_type": "code",
   "execution_count": 55,
   "id": "b39e518c",
   "metadata": {
    "scrolled": true
   },
   "outputs": [
    {
     "data": {
      "text/plain": [
       "Text(33.0, 0.5, 'True Labels')"
      ]
     },
     "execution_count": 55,
     "metadata": {},
     "output_type": "execute_result"
    },
    {
     "data": {
      "image/png": "[encoded data removed]",
      "text/plain": [
       "<Figure size 432x288 with 2 Axes>"
      ]
     },
     "metadata": {
      "needs_background": "light"
     },
     "output_type": "display_data"
    }
   ],
   "source": [
    "import matplotlib.pyplot as plt\n",
    "import seaborn as sns\n",
    "\n",
    "# plot the confusion matrix as a heatmap\n",
    "sns.heatmap(cm, annot=True, cmap='Blues')\n",
    "plt.xlabel('Predicted Labels')\n",
    "plt.ylabel('True Labels')\n",
    "#plt.show()\n",
    "#plt.savefig('M:/LIU/TM/project/Final Work/akharin report/CM_RandomForestClassifier.jpg', dpi=300, bbox_inches='tight')\n"
   ]
  },
  {
   "cell_type": "markdown",
   "id": "c4e422aa",
   "metadata": {},
   "source": [
    "# AdaBoostClassifier"
   ]
  },
  {
   "cell_type": "code",
   "execution_count": 62,
   "id": "d153471b",
   "metadata": {},
   "outputs": [
    {
     "name": "stdout",
     "output_type": "stream",
     "text": [
      "train Accuracy: 1.0\n",
      "Accuracy: 0.999137187230371\n",
      "Precision: 1.0\n",
      "Recall: 0.9974226804123711\n",
      "F1 score: 0.9987096774193548\n"
     ]
    }
   ],
   "source": [
    "import pandas as pd\n",
    "from sklearn.feature_extraction.text import CountVectorizer\n",
    "from sklearn.ensemble import AdaBoostClassifier\n",
    "from sklearn.tree import DecisionTreeClassifier\n",
    "from sklearn.model_selection import train_test_split\n",
    "\n",
    "# Load the email dataset\n",
    "#df = pd.read_csv('email_dataset.csv')\n",
    "\n",
    "# Split the dataset into training and testing sets\n",
    "#X_train, X_test, y_train, y_test = train_test_split(df['message'], df['label'], test_size=0.2, random_state=42)\n",
    "\n",
    "# Vectorize the emails using a CountVectorizer\n",
    "#vectorizer = CountVectorizer(stop_words='english')\n",
    "#X_train_vec = vectorizer.fit_transform(X_train)\n",
    "#X_test_vec = vectorizer.transform(X_test)\n",
    "\n",
    "# Train an AdaBoost classifier on the training data\n",
    "base_classifier = DecisionTreeClassifier(max_depth=1)\n",
    "clf = AdaBoostClassifier(base_estimator=base_classifier, n_estimators=200, learning_rate=0.5, random_state=42)\n",
    "clf.fit(X_train, Y_train)\n",
    "Y_pred = clf.predict(X_val)\n",
    "Y_pred_tr = clf.predict(X_train)\n",
    "# Evaluate the performance of the classifier on the testing data\n",
    "#accuracy = clf.score(Y_train, y_test)\n",
    "#print('Accuracy:', accuracy)\n",
    "# Model evaluation\n",
    "#Y_pred = model.predict(X_val)\n",
    "#Y_pred_tr = model.predict(X_train)\n",
    "print(\"train Accuracy:\", accuracy_score(Y_train, Y_pred_tr))\n",
    "print(\"Accuracy:\", accuracy_score(Y_val, Y_pred))\n",
    "print(\"Precision:\", precision_score(Y_val, Y_pred))\n",
    "print(\"Recall:\", recall_score(Y_val, Y_pred))\n",
    "print(\"F1 score:\", f1_score(Y_val, Y_pred))"
   ]
  },
  {
   "cell_type": "code",
   "execution_count": 63,
   "id": "f4f4cecb",
   "metadata": {},
   "outputs": [
    {
     "name": "stdout",
     "output_type": "stream",
     "text": [
      "[[771   0]\n",
      " [  1 387]]\n"
     ]
    }
   ],
   "source": [
    "from sklearn.metrics import confusion_matrix\n",
    "\n",
    "# assume y_true and y_pred are the true and predicted labels, respectively\n",
    "cm = confusion_matrix(Y_val, Y_pred)\n",
    "\n",
    "# print the confusion matrix\n",
    "print(cm)\n"
   ]
  },
  {
   "cell_type": "code",
   "execution_count": 64,
   "id": "b1139930",
   "metadata": {},
   "outputs": [
    {
     "data": {
      "text/plain": [
       "Text(33.0, 0.5, 'True Labels')"
      ]
     },
     "execution_count": 64,
     "metadata": {},
     "output_type": "execute_result"
    },
    {
     "data": {
      "image/png": "[encoded data removed]",
      "text/plain": [
       "<Figure size 432x288 with 2 Axes>"
      ]
     },
     "metadata": {
      "needs_background": "light"
     },
     "output_type": "display_data"
    }
   ],
   "source": [
    "import matplotlib.pyplot as plt\n",
    "import seaborn as sns\n",
    "\n",
    "# plot the confusion matrix as a heatmap\n",
    "sns.heatmap(cm, annot=True, cmap='Blues')\n",
    "plt.xlabel('Predicted Labels')\n",
    "plt.ylabel('True Labels')\n",
    "#plt.show()\n",
    "#plt.savefig('M:/LIU/TM/project/Final Work/akharin report/CM_RandomForestClassifier.jpg', dpi=300, bbox_inches='tight')\n"
   ]
  },
  {
   "cell_type": "code",
   "execution_count": 65,
   "id": "117d1fa0",
   "metadata": {},
   "outputs": [
    {
     "name": "stdout",
     "output_type": "stream",
     "text": [
      "train Accuracy: 0.9937446074201898\n",
      "Accuracy: 0.993960310612597\n",
      "Precision: 0.9948051948051948\n",
      "Recall: 0.9871134020618557\n",
      "F1 score: 0.9909443725743855\n"
     ]
    }
   ],
   "source": [
    "# Train a Decision Tree classifier on the training data\n",
    "clf = DecisionTreeClassifier(max_depth=10, random_state=42)\n",
    "clf.fit(X_train, Y_train)\n",
    "Y_pred = clf.predict(X_val)\n",
    "Y_pred_tr = clf.predict(X_train)\n",
    "# Evaluate the performance of the classifier on the testing data\n",
    "#accuracy = clf.score(Y_train, y_test)\n",
    "#print('Accuracy:', accuracy)\n",
    "# Model evaluation\n",
    "#Y_pred = model.predict(X_val)\n",
    "#Y_pred_tr = model.predict(X_train)\n",
    "print(\"train Accuracy:\", accuracy_score(Y_train, Y_pred_tr))\n",
    "print(\"Accuracy:\", accuracy_score(Y_val, Y_pred))\n",
    "print(\"Precision:\", precision_score(Y_val, Y_pred))\n",
    "print(\"Recall:\", recall_score(Y_val, Y_pred))\n",
    "print(\"F1 score:\", f1_score(Y_val, Y_pred))"
   ]
  },
  {
   "cell_type": "code",
   "execution_count": null,
   "id": "8e9f2b5b",
   "metadata": {},
   "outputs": [],
   "source": []
  },
  {
   "cell_type": "markdown",
   "id": "508b510a",
   "metadata": {},
   "source": [
    "Furher work , a larger datset can be used to train and test."
   ]
  },
  {
   "cell_type": "code",
   "execution_count": null,
   "id": "348ca74b",
   "metadata": {},
   "outputs": [],
   "source": []
  },
  {
   "cell_type": "markdown",
   "id": "c3b22b9f",
   "metadata": {},
   "source": [
    "# The best model"
   ]
  },
  {
   "cell_type": "code",
   "execution_count": 56,
   "id": "b5718291",
   "metadata": {},
   "outputs": [],
   "source": [
    "random.seed(0)\n",
    "X_train,X_test,Y_train,Y_test=train_test_split(X,Y,test_size=0.20,shuffle=True)"
   ]
  },
  {
   "cell_type": "code",
   "execution_count": 57,
   "id": "77f86f05",
   "metadata": {},
   "outputs": [
    {
     "name": "stdout",
     "output_type": "stream",
     "text": [
      "X_train: (4636, 132244)\n",
      "X_test:  (1160, 132244)\n",
      "Y_train: (4636,)\n",
      "Y_test: (1160,)\n",
      "proportion of train 0.80 \n",
      "proportion of test 0.20 \n"
     ]
    }
   ],
   "source": [
    "print(\"X_train:\",X_train.shape)\n",
    "print(\"X_test: \",X_test.shape)\n",
    "print(\"Y_train:\",Y_train.shape)\n",
    "print(\"Y_test:\",Y_test.shape)\n",
    "\n",
    "print('proportion of train {:.2f} '.format(len(Y_train)/email.shape[0]))\n",
    "\n",
    "print('proportion of test {:.2f} ' .format(len(Y_test)/email.shape[0]))"
   ]
  },
  {
   "cell_type": "code",
   "execution_count": 58,
   "id": "074dd917",
   "metadata": {},
   "outputs": [
    {
     "name": "stdout",
     "output_type": "stream",
     "text": [
      "train Accuracy: 0.9976272648835203\n",
      "Accuracy: 0.994823123382226\n",
      "Precision: 0.9973958333333334\n",
      "Recall: 0.9871134020618557\n",
      "F1 score: 0.9922279792746115\n"
     ]
    }
   ],
   "source": [
    "# Model training\n",
    "model = SVC(kernel=\"linear\")\n",
    "model.fit(X_train, Y_train)\n",
    "\n",
    "# Model evaluation\n",
    "Y_pred = model.predict(X_val)\n",
    "Y_pred_tr = model.predict(X_train)\n",
    "print(\"train Accuracy:\", accuracy_score(Y_train, Y_pred_tr))\n",
    "print(\"Accuracy:\", accuracy_score(Y_val, Y_pred))\n",
    "print(\"Precision:\", precision_score(Y_val, Y_pred))\n",
    "print(\"Recall:\", recall_score(Y_val, Y_pred))\n",
    "print(\"F1 score:\", f1_score(Y_val, Y_pred))"
   ]
  },
  {
   "cell_type": "code",
   "execution_count": 59,
   "id": "93369a8a",
   "metadata": {},
   "outputs": [
    {
     "name": "stdout",
     "output_type": "stream",
     "text": [
      "[[770   1]\n",
      " [  5 383]]\n"
     ]
    }
   ],
   "source": [
    "from sklearn.metrics import confusion_matrix\n",
    "\n",
    "# assume y_true and y_pred are the true and predicted labels, respectively\n",
    "cm = confusion_matrix(Y_val, Y_pred)\n",
    "\n",
    "# print the confusion matrix\n",
    "print(cm)"
   ]
  },
  {
   "cell_type": "code",
   "execution_count": 60,
   "id": "7efa7a75",
   "metadata": {},
   "outputs": [
    {
     "data": {
      "text/plain": [
       "Text(33.0, 0.5, 'True Labels')"
      ]
     },
     "execution_count": 60,
     "metadata": {},
     "output_type": "execute_result"
    },
    {
     "data": {
      "image/png": "[encoded data removed]",
      "text/plain": [
       "<Figure size 432x288 with 2 Axes>"
      ]
     },
     "metadata": {
      "needs_background": "light"
     },
     "output_type": "display_data"
    }
   ],
   "source": [
    "import matplotlib.pyplot as plt\n",
    "import seaborn as sns\n",
    "\n",
    "# plot the confusion matrix as a heatmap\n",
    "sns.heatmap(cm, annot=True, cmap='Blues')\n",
    "plt.xlabel('Predicted Labels')\n",
    "plt.ylabel('True Labels')\n",
    "#plt.show()\n",
    "#plt.savefig('M:/LIU/TM/project/Final Work/akharin report/bestclassifier.jpg', dpi=300, bbox_inches='tight')\n"
   ]
  },
  {
   "cell_type": "code",
   "execution_count": null,
   "id": "7a1de410",
   "metadata": {},
   "outputs": [],
   "source": []
  },
  {
   "cell_type": "markdown",
   "id": "71b41c26",
   "metadata": {},
   "source": [
    "## Refrence:\n",
    "https://www.malicksarr.com/\n",
    "\n",
    "https://www.geeksforgeeks.org/\n",
    "\n",
    "https://scikit-learn.org/\n",
    "\n",
    "https://www.statology.org/\n",
    "\n",
    "https://towardsdatascience.com/how-to-balance-a-dataset-in-python-36dff9d12704"
   ]
  },
  {
   "cell_type": "code",
   "execution_count": null,
   "id": "fc673bb8",
   "metadata": {},
   "outputs": [],
   "source": []
  },
  {
   "cell_type": "code",
   "execution_count": null,
   "id": "308c7b31",
   "metadata": {},
   "outputs": [],
   "source": []
  }
 ],
 "metadata": {
  "kernelspec": {
   "display_name": "Python 3 (ipykernel)",
   "language": "python",
   "name": "python3"
  },
  "language_info": {
   "codemirror_mode": {
    "name": "ipython",
    "version": 3
   },
   "file_extension": ".py",
   "mimetype": "text/x-python",
   "name": "python",
   "nbconvert_exporter": "python",
   "pygments_lexer": "ipython3",
   "version": "3.9.7"
  }
 },
 "nbformat": 4,
 "nbformat_minor": 5
}
